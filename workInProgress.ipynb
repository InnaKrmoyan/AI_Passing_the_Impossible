{
 "cells": [
  {
   "cell_type": "markdown",
   "id": "b137d968",
   "metadata": {},
   "source": [
    "## Depressed Wumpus 1.1"
   ]
  },
  {
   "cell_type": "markdown",
   "id": "65487658",
   "metadata": {},
   "source": [
    "# Read Me <br>\n",
    "The code below is responsible for the world definition from the percpective of the game (full definition) and the player (the known information + information obtained from the percepts) <br>\n",
    "<br>\n",
    "Additional functionality is implemented that makes the game playable for the player. (The said functionality is a bit cursed and not fully complete.) <br>\n",
    "<br>\n",
    "Some functions that ruturn suggested solutions are also implemented, but some calculations that were included in the paper were dony \"by hand\". That means that we used the file `world generation.ipynb` to generate game states and checked if the said algorythm succeeded in that world or no."
   ]
  },
  {
   "cell_type": "code",
   "execution_count": 1,
   "id": "8165f24a",
   "metadata": {},
   "outputs": [],
   "source": [
    "import random"
   ]
  },
  {
   "cell_type": "code",
   "execution_count": 2,
   "id": "4b3d61d8",
   "metadata": {},
   "outputs": [],
   "source": [
    "# initialization of the world: game perspective"
   ]
  },
  {
   "cell_type": "code",
   "execution_count": 3,
   "id": "989cfd81",
   "metadata": {},
   "outputs": [],
   "source": [
    "# initial state of the game\n",
    "state_game = {}"
   ]
  },
  {
   "cell_type": "code",
   "execution_count": 4,
   "id": "5edc18f1",
   "metadata": {},
   "outputs": [],
   "source": [
    "# the board size\n",
    "size = 5"
   ]
  },
  {
   "cell_type": "code",
   "execution_count": 5,
   "id": "ef94204a",
   "metadata": {},
   "outputs": [],
   "source": [
    "# all locations on the board\n",
    "locations = []\n",
    "for i in range(size):\n",
    "    for j in range(size):\n",
    "        locations.append((i, j))\n",
    "        \n",
    "# in some situation using this format works better\n",
    "locations_dict = {locations[i]: i for i in range(len(locations))}"
   ]
  },
  {
   "cell_type": "code",
   "execution_count": 6,
   "id": "0511a008",
   "metadata": {},
   "outputs": [],
   "source": [
    "bed = (0, 0)"
   ]
  },
  {
   "cell_type": "code",
   "execution_count": 7,
   "id": "41530399",
   "metadata": {},
   "outputs": [],
   "source": [
    "def bed_indicator():\n",
    "    indicator = []\n",
    "    for i in locations:\n",
    "        if i == bed:\n",
    "            indicator.append(True)\n",
    "        else:\n",
    "            indicator.append(False)\n",
    "    return indicator"
   ]
  },
  {
   "cell_type": "code",
   "execution_count": 8,
   "id": "1fc9fc4b",
   "metadata": {},
   "outputs": [],
   "source": [
    "# the starting point\n",
    "location = (0, 0)"
   ]
  },
  {
   "cell_type": "code",
   "execution_count": 9,
   "id": "35547395",
   "metadata": {},
   "outputs": [],
   "source": [
    "# indicator of the current location \n",
    "def current_location_indicator():\n",
    "    indicator = []\n",
    "    for i in locations:\n",
    "        if i == location:\n",
    "            indicator.append(True)\n",
    "        else:\n",
    "            indicator.append(False)\n",
    "    return indicator"
   ]
  },
  {
   "cell_type": "code",
   "execution_count": 10,
   "id": "6dbfc6d5",
   "metadata": {},
   "outputs": [],
   "source": [
    "# the study room\n",
    "while True:\n",
    "    study_room = (random.randint(0, size - 1), random.randint(0, size - 1))\n",
    "    if study_room != (0, 0):\n",
    "        break"
   ]
  },
  {
   "cell_type": "code",
   "execution_count": 11,
   "id": "0de66e2f",
   "metadata": {},
   "outputs": [],
   "source": [
    "# indicator of the study room\n",
    "def study_room_indicator():\n",
    "    indicator = []\n",
    "    for i in locations:\n",
    "        if i == study_room:\n",
    "            indicator.append(True)\n",
    "        else:\n",
    "            indicator.append(False)\n",
    "    return indicator"
   ]
  },
  {
   "cell_type": "code",
   "execution_count": 12,
   "id": "ce90490a",
   "metadata": {},
   "outputs": [],
   "source": [
    "# the party location\n",
    "while True:\n",
    "    party = (random.randint(0, size - 1), random.randint(0, size - 1))\n",
    "    if party != (0, 0) and party != study_room:\n",
    "        break"
   ]
  },
  {
   "cell_type": "code",
   "execution_count": 13,
   "id": "4caae30b",
   "metadata": {},
   "outputs": [],
   "source": [
    "# indicator of the party\n",
    "def party_indicator():\n",
    "    indicator = []\n",
    "    for i in locations:\n",
    "        if i == party:\n",
    "            indicator.append(True)\n",
    "        else:\n",
    "            indicator.append(False)\n",
    "    return indicator"
   ]
  },
  {
   "cell_type": "code",
   "execution_count": 14,
   "id": "623d2c1c",
   "metadata": {},
   "outputs": [],
   "source": [
    "# the vodka smell\n",
    "initial_vodka_smell_strong = [False for i in range(size ** 2)]\n",
    "initial_vodka_smell_weak = [False for i in range(size ** 2)]\n",
    "vodka_smell_strong = {locations[i]: initial_vodka_smell_strong[i] for i in range(len(locations))}\n",
    "vodka_smell_weak = {locations[i]: initial_vodka_smell_weak[i] for i in range(len(locations))}\n",
    "vodka_smell_strong[party] = True\n",
    "\n",
    "# strong smell\n",
    "# right\n",
    "party_adjacent = (party[0] + 1, party[1])\n",
    "if 0 <= party_adjacent[0] <= (size - 1) and 0 <= party_adjacent[1] <= (size - 1):\n",
    "    vodka_smell_strong[party_adjacent] = True\n",
    "\n",
    "# left\n",
    "party_adjacent = (party[0] - 1, party[1])\n",
    "if 0 <= party_adjacent[0] <= (size - 1) and 0 <= party_adjacent[1] <= (size - 1):\n",
    "    vodka_smell_strong[party_adjacent] = True\n",
    "\n",
    "# up\n",
    "party_adjacent = (party[0], party[1] + 1)\n",
    "if 0 <= party_adjacent[0] <= (size - 1) and 0 <= party_adjacent[1] <= (size - 1):\n",
    "    vodka_smell_strong[party_adjacent] = True\n",
    "\n",
    "# down\n",
    "party_adjacent = (party[0], party[1] - 1)\n",
    "if 0 <= party_adjacent[0] <= (size - 1) and 0 <= party_adjacent[1] <= (size - 1):\n",
    "    vodka_smell_strong[party_adjacent] = True\n",
    "    \n",
    "# weak smell    \n",
    "# right\n",
    "party_adjacent = (party[0] + 2, party[1])\n",
    "if 0 <= party_adjacent[0] <= (size - 1) and 0 <= party_adjacent[1] <= (size - 1):\n",
    "    vodka_smell_weak[party_adjacent] = True\n",
    "\n",
    "# left\n",
    "party_adjacent = (party[0] - 2, party[1])\n",
    "if 0 <= party_adjacent[0] <= (size - 1) and 0 <= party_adjacent[1] <= (size - 1):\n",
    "    vodka_smell_weak[party_adjacent] = True\n",
    "\n",
    "# up\n",
    "party_adjacent = (party[0], party[1] + 2)\n",
    "if 0 <= party_adjacent[0] <= (size - 1) and 0 <= party_adjacent[1] <= (size - 1):\n",
    "    vodka_smell_weak[party_adjacent] = True\n",
    "\n",
    "# down\n",
    "party_adjacent = (party[0], party[1] - 2)\n",
    "if 0 <= party_adjacent[0] <= (size - 1) and 0 <= party_adjacent[1] <= (size - 1):\n",
    "    vodka_smell_weak[party_adjacent] = True"
   ]
  },
  {
   "cell_type": "code",
   "execution_count": 15,
   "id": "5f833fbb",
   "metadata": {},
   "outputs": [],
   "source": [
    "# the pss may change its location throughout the game, thus its generation is going to utilize functions\n",
    "\n",
    "# generating pss\n",
    "def pss_generator(study_room):\n",
    "    while True:\n",
    "        pss = (random.randint(0, size - 1), random.randint(0, size - 1))\n",
    "        if pss != (0, 0) and pss != study_room and pss != party:\n",
    "            break\n",
    "    return pss"
   ]
  },
  {
   "cell_type": "code",
   "execution_count": 16,
   "id": "44d64dd6",
   "metadata": {},
   "outputs": [],
   "source": [
    "# indicator of the pss\n",
    "def pss_indicator(pss):\n",
    "    indicator = []\n",
    "    for i in locations:\n",
    "        if i == pss:\n",
    "            indicator.append(True)\n",
    "        else:\n",
    "            indicator.append(False)\n",
    "    return indicator"
   ]
  },
  {
   "cell_type": "code",
   "execution_count": 17,
   "id": "6c8e0b34",
   "metadata": {},
   "outputs": [],
   "source": [
    "# generating the smell of coffee\n",
    "def coffee_smell_generator(pss):\n",
    "    initial_coffee_smell_strong = [False for i in range(size ** 2)]\n",
    "    initial_coffee_smell_weak = [False for i in range(size ** 2)]\n",
    "    coffee_smell_strong = {locations[i]: initial_coffee_smell_strong[i] for i in range(len(locations))}\n",
    "    coffee_smell_weak = {locations[i]: initial_coffee_smell_weak[i] for i in range(len(locations))}\n",
    "    coffee_smell_strong[pss] = True\n",
    "    \n",
    "    # strong smell\n",
    "    # right\n",
    "    pss_adjacent = (pss[0] + 1, pss[1])\n",
    "    if 0 <= pss_adjacent[0] <= (size - 1) and 0 <= pss_adjacent[1] <= (size - 1):\n",
    "        coffee_smell_strong[pss_adjacent] = True\n",
    "\n",
    "    # left\n",
    "    pss_adjacent = (pss[0] - 1, pss[1])\n",
    "    if 0 <= pss_adjacent[0] <= (size - 1) and 0 <= pss_adjacent[1] <= (size - 1):\n",
    "        coffee_smell_strong[pss_adjacent] = True\n",
    "\n",
    "    # up\n",
    "    pss_adjacent = (pss[0], pss[1] + 1)\n",
    "    if 0 <= pss_adjacent[0] <= (size - 1) and 0 <= pss_adjacent[1] <= (size - 1):\n",
    "        coffee_smell_strong[pss_adjacent] = True\n",
    "\n",
    "    # down\n",
    "    pss_adjacent = (pss[0], pss[1] - 1)\n",
    "    if 0 <= pss_adjacent[0] <= (size - 1) and 0 <= pss_adjacent[1] <= (size - 1):\n",
    "        coffee_smell_strong[pss_adjacent] = True\n",
    "\n",
    "    # weak smell\n",
    "    # right\n",
    "    pss_adjacent = (pss[0] + 2, pss[1])\n",
    "    if 0 <= pss_adjacent[0] <= (size - 1) and 0 <= pss_adjacent[1] <= (size - 1):\n",
    "        coffee_smell_weak[pss_adjacent] = True\n",
    "\n",
    "    # left\n",
    "    pss_adjacent = (pss[0] - 2, pss[1])\n",
    "    if 0 <= pss_adjacent[0] <= (size - 1) and 0 <= pss_adjacent[1] <= (size - 1):\n",
    "        coffee_smell_weak[pss_adjacent] = True\n",
    "\n",
    "    # up\n",
    "    pss_adjacent = (pss[0], pss[1] + 2)\n",
    "    if 0 <= pss_adjacent[0] <= (size - 1) and 0 <= pss_adjacent[1] <= (size - 1):\n",
    "        coffee_smell_weak[pss_adjacent] = True\n",
    "\n",
    "    # down\n",
    "    pss_adjacent = (pss[0], pss[1] - 2)\n",
    "    if 0 <= pss_adjacent[0] <= (size - 1) and 0 <= pss_adjacent[1] <= (size - 1):\n",
    "        coffee_smell_weak[pss_adjacent] = True\n",
    "    \n",
    "    return (coffee_smell_strong, coffee_smell_weak)"
   ]
  },
  {
   "cell_type": "code",
   "execution_count": 18,
   "id": "83658fed",
   "metadata": {},
   "outputs": [],
   "source": [
    "# initializing pss\n",
    "pss = pss_generator(study_room)\n",
    "coffee_smell_strong = coffee_smell_generator(pss)[0]\n",
    "coffee_smell_weak = coffee_smell_generator(pss)[1]"
   ]
  },
  {
   "cell_type": "code",
   "execution_count": 19,
   "id": "d1aab672",
   "metadata": {},
   "outputs": [],
   "source": [
    "# get the overview of the world from the perspective of the game\n",
    "# only true values are displayed\n",
    "def get_world_state_game(state_game):\n",
    "    for i in range(len(locations)):\n",
    "        state_component_holder = []\n",
    "        if bed_indicator()[i]:\n",
    "            state_component_holder.append(\"bed\")\n",
    "        if current_location_indicator()[i]:\n",
    "            state_component_holder.append(\"current location\")\n",
    "        if study_room_indicator()[i]:\n",
    "            state_component_holder.append(\"study room\")\n",
    "        if party_indicator()[i]:\n",
    "            state_component_holder.append(\"party\")\n",
    "        if vodka_smell_strong[locations[i]]:\n",
    "            state_component_holder.append(\"strong vodka smell\")\n",
    "        if vodka_smell_weak[locations[i]]:\n",
    "            state_component_holder.append(\"weak vodka smell\")\n",
    "        if pss_indicator(pss)[i]:\n",
    "            state_component_holder.append(\"pss\")\n",
    "        if coffee_smell_strong[locations[i]]:\n",
    "            state_component_holder.append(\"strong coffee smell\")\n",
    "        if coffee_smell_weak[locations[i]]:\n",
    "            state_component_holder.append(\"weak coffee smell\")\n",
    "        state_game[locations[i]] = state_component_holder\n",
    "    return state_game"
   ]
  },
  {
   "cell_type": "code",
   "execution_count": 20,
   "id": "8338a58a",
   "metadata": {},
   "outputs": [
    {
     "data": {
      "text/plain": [
       "{(0, 0): ['bed', 'current location'],\n",
       " (0, 1): [],\n",
       " (0, 2): [],\n",
       " (0, 3): [],\n",
       " (0, 4): ['strong coffee smell'],\n",
       " (1, 0): ['study room'],\n",
       " (1, 1): [],\n",
       " (1, 2): ['weak coffee smell'],\n",
       " (1, 3): ['strong coffee smell'],\n",
       " (1, 4): ['pss', 'strong coffee smell'],\n",
       " (2, 0): ['weak vodka smell'],\n",
       " (2, 1): [],\n",
       " (2, 2): [],\n",
       " (2, 3): [],\n",
       " (2, 4): ['strong coffee smell'],\n",
       " (3, 0): ['strong vodka smell'],\n",
       " (3, 1): [],\n",
       " (3, 2): [],\n",
       " (3, 3): [],\n",
       " (3, 4): ['weak coffee smell'],\n",
       " (4, 0): ['party', 'strong vodka smell'],\n",
       " (4, 1): ['strong vodka smell'],\n",
       " (4, 2): ['weak vodka smell'],\n",
       " (4, 3): [],\n",
       " (4, 4): []}"
      ]
     },
     "execution_count": 20,
     "metadata": {},
     "output_type": "execute_result"
    }
   ],
   "source": [
    "# the initial state of the world: the perspective of the game\n",
    "state_game = get_world_state_game(state_game)\n",
    "state_game"
   ]
  },
  {
   "cell_type": "code",
   "execution_count": 21,
   "id": "ae650c7e",
   "metadata": {},
   "outputs": [],
   "source": [
    "# initialization of the world: player perspective"
   ]
  },
  {
   "cell_type": "code",
   "execution_count": 22,
   "id": "5505cece",
   "metadata": {},
   "outputs": [],
   "source": [
    "# initial state of the game from the perspective of the player\n",
    "state_player = {}\n",
    "\n",
    "for i in range(len(locations)):\n",
    "    state_component_holder = []\n",
    "    if bed_indicator()[i]:\n",
    "        state_component_holder.append(\"bed\")\n",
    "    if current_location_indicator()[i]:\n",
    "        state_component_holder.append(\"current location\")\n",
    "    if study_room_indicator()[i]:\n",
    "        state_component_holder.append(\"study room\")\n",
    "    state_player[locations[i]] = state_component_holder"
   ]
  },
  {
   "cell_type": "code",
   "execution_count": 23,
   "id": "a6d28587",
   "metadata": {},
   "outputs": [],
   "source": [
    "# keeps track of the history of visited locations\n",
    "# can be used to keep track of time \n",
    "history = [(0, 0)]"
   ]
  },
  {
   "cell_type": "code",
   "execution_count": 24,
   "id": "b0f248d7",
   "metadata": {},
   "outputs": [],
   "source": [
    "# the student initially does not know where the party is\n",
    "# the numbers mentioned here are not on the board, they're just here for an understanding of the form of the data that\n",
    "# is going to be contaioned in this variable\n",
    "party_player = (size, size)"
   ]
  },
  {
   "cell_type": "code",
   "execution_count": 25,
   "id": "90e57c95",
   "metadata": {},
   "outputs": [],
   "source": [
    "# gives acess to the percept that the player gets in the current cell\n",
    "def percept(location):\n",
    "    location_index = locations_dict.get(location)\n",
    "    # in get_world_state alike functions the same variable had the name state_component_holder\n",
    "    percept_information = []\n",
    "    if current_location_indicator()[location_index]:\n",
    "        percept_information.append(\"current location\")\n",
    "    if study_room_indicator()[location_index]:\n",
    "        percept_information.append(\"study room\")\n",
    "    if party_indicator()[location_index]:\n",
    "        percept_information.append(\"party\")\n",
    "    if vodka_smell_strong[locations[location_index]]:\n",
    "        percept_information.append(\"strong vodka smell\")\n",
    "    if vodka_smell_weak[locations[location_index]]:\n",
    "        percept_information.append(\"weak vodka smell\")\n",
    "    if pss_indicator(pss)[location_index]:\n",
    "        percept_information.append(\"pss\")\n",
    "    if coffee_smell_strong[locations[location_index]]:\n",
    "        percept_information.append(\"strong coffee smell\")\n",
    "    if coffee_smell_weak[locations[location_index]]:\n",
    "        percept_information.append(\"weak coffee smell\")\n",
    "    return percept_information"
   ]
  },
  {
   "cell_type": "code",
   "execution_count": 26,
   "id": "7ba8966d",
   "metadata": {},
   "outputs": [],
   "source": [
    "# indicator of the party\n",
    "def party_indicator_player():\n",
    "    indicator = []\n",
    "    for i in locations:\n",
    "        if i == party_player:\n",
    "            indicator.append(True)\n",
    "        else:\n",
    "            indicator.append(False)\n",
    "    return indicator"
   ]
  },
  {
   "cell_type": "code",
   "execution_count": 27,
   "id": "2d5bf0b1",
   "metadata": {},
   "outputs": [],
   "source": [
    "# generating the smell of vodka\n",
    "def vodka_smell_generator_player():\n",
    "    initial_vodka_smell_strong = [False for i in range(size ** 2)]\n",
    "    initial_vodka_smell_weak = [False for i in range(size ** 2)]\n",
    "    vodka_smell_player_strong = {locations[i]: initial_vodka_smell_strong[i] for i in range(len(locations))}\n",
    "    vodka_smell_player_weak = {locations[i]: initial_vodka_smell_weak[i] for i in range(len(locations))}\n",
    "    vodka_smell_player_strong[party_player] = True\n",
    "    \n",
    "    # strong smell\n",
    "    # right\n",
    "    party_adjacent = (party_player[0] + 1, party_player[1])\n",
    "    if 0 <= party_adjacent[0] <= (size - 1) and 0 <= party_adjacent[1] <= (size - 1):\n",
    "        vodka_smell_player_strong[party_adjacent] = True\n",
    "\n",
    "    # left\n",
    "    party_adjacent = (party_player[0] - 1, party_player[1])\n",
    "    if 0 <= party_adjacent[0] <= (size - 1) and 0 <= party_adjacent[1] <= (size - 1):\n",
    "        vodka_smell_player_strong[party_adjacent] = True\n",
    "\n",
    "    # up\n",
    "    party_adjacent = (party_player[0], party_player[1] + 1)\n",
    "    if 0 <= party_adjacent[0] <= (size - 1) and 0 <= party_adjacent[1] <= (size - 1):\n",
    "        vodka_smell_player_strong[party_adjacent] = True\n",
    "\n",
    "    # down\n",
    "    party_adjacent = (party_player[0], party_player[1] - 1)\n",
    "    if 0 <= party_adjacent[0] <= (size - 1) and 0 <= party_adjacent[1] <= (size - 1):\n",
    "        vodka_smell_player_strong[party_adjacent] = True\n",
    "        \n",
    "    # weak smell\n",
    "    # right\n",
    "    party_adjacent = (party_player[0] + 2, party_player[1])\n",
    "    if 0 <= party_adjacent[0] <= (size - 1) and 0 <= party_adjacent[1] <= (size - 1):\n",
    "        vodka_smell_player_weak[party_adjacent] = True\n",
    "\n",
    "    # left\n",
    "    party_adjacent = (party_player[0] - 2, party_player[1])\n",
    "    if 0 <= party_adjacent[0] <= (size - 1) and 0 <= party_adjacent[1] <= (size - 1):\n",
    "        vodka_smell_player_weak[party_adjacent] = True\n",
    "\n",
    "    # up\n",
    "    party_adjacent = (party_player[0], party_player[1] + 2)\n",
    "    if 0 <= party_adjacent[0] <= (size - 1) and 0 <= party_adjacent[1] <= (size - 1):\n",
    "        vodka_smell_player_weak[party_adjacent] = True\n",
    "\n",
    "    # down\n",
    "    party_adjacent = (party_player[0], party_player[1] - 2)\n",
    "    if 0 <= party_adjacent[0] <= (size - 1) and 0 <= party_adjacent[1] <= (size - 1):\n",
    "        vodka_smell_player_weak[party_adjacent] = True\n",
    "        \n",
    "    return (vodka_smell_player_strong, vodka_smell_player_weak)"
   ]
  },
  {
   "cell_type": "code",
   "execution_count": 28,
   "id": "780bc7d9",
   "metadata": {},
   "outputs": [],
   "source": [
    "# the student initially does not know where the pss is\n",
    "# the numbers mentioned here are not on the board, they're just here for an understanding of the form of the data that\n",
    "# is going to be contaioned in this variable\n",
    "pss_player = (size + 1, size + 1)"
   ]
  },
  {
   "cell_type": "code",
   "execution_count": 29,
   "id": "6049b3b7",
   "metadata": {},
   "outputs": [],
   "source": [
    "# indicator of the pss\n",
    "def pss_indicator_player(pss):\n",
    "    indicator = []\n",
    "    for i in locations:\n",
    "        if i == pss_player:\n",
    "            indicator.append(True)\n",
    "        else:\n",
    "            indicator.append(False)\n",
    "    return indicator"
   ]
  },
  {
   "cell_type": "code",
   "execution_count": 30,
   "id": "00d82e9d",
   "metadata": {},
   "outputs": [],
   "source": [
    "# generating the smell of coffee\n",
    "def coffee_smell_generator_player(pss):\n",
    "    initial_coffee_smell = [False for i in range(size ** 2)]\n",
    "    coffee_smell_player = {locations[i]: initial_coffee_smell[i] for i in range(len(locations))}\n",
    "    coffee_smell[pss_player] = True\n",
    "    \n",
    "    # strong smell\n",
    "    # right\n",
    "    pss_adjacent = (pss_player[0] + 1, pss_player[1])\n",
    "    if 0 <= pss_adjacent[0] <= (size - 1) and 0 <= pss_adjacent[1] <= (size - 1):\n",
    "        coffee_smell_player_strong[pss_adjacent] = True\n",
    "\n",
    "    # left\n",
    "    pss_adjacent = (pss_player[0] - 1, pss_player[1])\n",
    "    if 0 <= pss_adjacent[0] <= (size - 1) and 0 <= pss_adjacent[1] <= (size - 1):\n",
    "        coffee_smell_player_strong[pss_adjacent] = True\n",
    "\n",
    "    # up\n",
    "    pss_adjacent = (pss_player[0], pss_player[1] + 1)\n",
    "    if 0 <= pss_adjacent[0] <= (size - 1) and 0 <= pss_adjacent[1] <= (size - 1):\n",
    "        coffee_smell_player_strong[pss_adjacent] = True\n",
    "\n",
    "    # down\n",
    "    pss_adjacent = (pss_player[0], pss_player[1] - 1)\n",
    "    if 0 <= pss_adjacent[0] <= (size - 1) and 0 <= pss_adjacent[1] <= (size - 1):\n",
    "        coffee_smell_player_strong[pss_adjacent] = True\n",
    "        \n",
    "    # weak smell\n",
    "    # right\n",
    "    pss_adjacent = (pss_player[0] + 2, pss_player[1])\n",
    "    if 0 <= pss_adjacent[0] <= (size - 1) and 0 <= pss_adjacent[1] <= (size - 1):\n",
    "        coffee_smell_player_weak[pss_adjacent] = True\n",
    "\n",
    "    # left\n",
    "    pss_adjacent = (pss_player[0] - 2, pss_player[1])\n",
    "    if 0 <= pss_adjacent[0] <= (size - 1) and 0 <= pss_adjacent[1] <= (size - 1):\n",
    "        coffee_smell_player_weak[pss_adjacent] = True\n",
    "\n",
    "    # up\n",
    "    pss_adjacent = (pss_player[0], pss_player[1] + 2)\n",
    "    if 0 <= pss_adjacent[0] <= (size - 1) and 0 <= pss_adjacent[1] <= (size - 1):\n",
    "        coffee_smell_player_weak[pss_adjacent] = True\n",
    "\n",
    "    # down\n",
    "    pss_adjacent = (pss_player[0], pss_player[1] - 2)\n",
    "    if 0 <= pss_adjacent[0] <= (size - 1) and 0 <= pss_adjacent[1] <= (size - 1):\n",
    "        coffee_smell_player_weak[pss_adjacent] = True\n",
    "    \n",
    "    return (coffee_smell_player_strong, coffee_smell_player_weak)"
   ]
  },
  {
   "cell_type": "code",
   "execution_count": 31,
   "id": "fec0d825",
   "metadata": {},
   "outputs": [],
   "source": [
    "# initializing the coffee smell\n",
    "coffee_smell_player_strong = coffee_smell_generator(pss_player)[0]\n",
    "coffee_smell_player_weak = coffee_smell_generator(pss_player)[1]"
   ]
  },
  {
   "cell_type": "code",
   "execution_count": 32,
   "id": "fefaaed1",
   "metadata": {},
   "outputs": [],
   "source": [
    "# get the overview of the world from the perspective of the player\n",
    "# only true values are displayed\n",
    "def get_world_state_player(state_player):\n",
    "    for i in range(len(locations)):\n",
    "        state_component_holder = []\n",
    "        if bed_indicator()[i]:\n",
    "            state_component_holder.append(\"bed\")\n",
    "        if current_location_indicator()[i]:\n",
    "            state_component_holder.append(\"current location\")\n",
    "        if study_room_indicator()[i]:\n",
    "            state_component_holder.append(\"study room\")\n",
    "        if party_player <= (size - 1, size - 1):\n",
    "            if party_indicator_player()[i]:\n",
    "                state_component_holder.append(\"party\")\n",
    "            if vodka_smell_generator_player()[0][i]:\n",
    "                state_component_holder.append(\"strong vodka smell\")\n",
    "            if vodka_smell_generator_player()[1][i]:\n",
    "                state_component_holder.append(\"weak vodka smell\")\n",
    "        if pss_player <= (size - 1, size - 1):\n",
    "            if pss_indicator_player(pss)[i]:\n",
    "                state_component_holder.append(\"pss\")\n",
    "            if coffee_smell_player_strong[locations[i]]:\n",
    "                state_component_holder.append(\"strong coffee smell\")\n",
    "            if coffee_smell_player_weak[locations[i]]:\n",
    "                state_component_holder.append(\"weak coffee smell\")\n",
    "        state_player[locations[i]] = state_component_holder\n",
    "    return state_player"
   ]
  },
  {
   "cell_type": "code",
   "execution_count": 33,
   "id": "1a191a94",
   "metadata": {},
   "outputs": [],
   "source": [
    "# updating the world state after gettiing a percept\n",
    "# acess percepf_information by calling percept(location)\n",
    "def change_world_state_player(location, percept_information, state_player):\n",
    "#     if \"party\" in percept_information:\n",
    "#         for i in range(len(locations)):\n",
    "#             if vodka_smell_generator_player()[0][i]:\n",
    "#                 state_player[i].extend(\"strong vodka smell\")\n",
    "#             if vodka_smell_generator_player()[1][i]:\n",
    "#                 state_player[i].extend(\"weak vodka smell\")\n",
    "      \n",
    "    # state_player = get_world_state_player(state_player)\n",
    "    state_player[location].extend(percept_information)\n",
    "    \n",
    "    no_dups = []\n",
    "    [no_dups.append(i) for i in state_player[location] if i not in no_dups]\n",
    "    state_player[location] = no_dups\n",
    "    return state_player"
   ]
  },
  {
   "cell_type": "code",
   "execution_count": 34,
   "id": "9221a788",
   "metadata": {},
   "outputs": [
    {
     "data": {
      "text/plain": [
       "{(0, 0): ['bed', 'current location'],\n",
       " (0, 1): [],\n",
       " (0, 2): [],\n",
       " (0, 3): [],\n",
       " (0, 4): [],\n",
       " (1, 0): ['study room'],\n",
       " (1, 1): [],\n",
       " (1, 2): [],\n",
       " (1, 3): [],\n",
       " (1, 4): [],\n",
       " (2, 0): [],\n",
       " (2, 1): [],\n",
       " (2, 2): [],\n",
       " (2, 3): [],\n",
       " (2, 4): [],\n",
       " (3, 0): [],\n",
       " (3, 1): [],\n",
       " (3, 2): [],\n",
       " (3, 3): [],\n",
       " (3, 4): [],\n",
       " (4, 0): [],\n",
       " (4, 1): [],\n",
       " (4, 2): [],\n",
       " (4, 3): [],\n",
       " (4, 4): []}"
      ]
     },
     "execution_count": 34,
     "metadata": {},
     "output_type": "execute_result"
    }
   ],
   "source": [
    "# the initial state of the world: the perspective of the player\n",
    "percept_information = percept(location)\n",
    "state_player = change_world_state_player(location, percept_information, state_player)\n",
    "state_player"
   ]
  },
  {
   "cell_type": "code",
   "execution_count": 35,
   "id": "bdcf2c73",
   "metadata": {},
   "outputs": [],
   "source": [
    "def study_room_eval():\n",
    "    plan = []\n",
    "    walk_time = study_room[0] + study_room[1]\n",
    "    needed_time = time_limit - walk_time\n",
    "    for sleep_time in range(needed_time + 1):\n",
    "        for study_time in reversed(range(needed_time + 1)):\n",
    "            # stamina check\n",
    "            if(study_time * 3 + walk_time <= sleep_time * 2):\n",
    "                # time check\n",
    "                if sleep_time + study_time + walk_time <= time_limit:\n",
    "                    # grade check\n",
    "                    # max score = 20\n",
    "                    # desirable score = 55% of 20 = 11\n",
    "                    if study_time >= 11:\n",
    "                        plan = [study_time, sleep_time]\n",
    "                        return plan"
   ]
  },
  {
   "cell_type": "code",
   "execution_count": 36,
   "id": "9f7892a2",
   "metadata": {},
   "outputs": [],
   "source": [
    "def study_room_exc(plan):\n",
    "    plan[0] += 50 - (study_room[0] + study_room[1]) - plan[0] - plan[1]\n",
    "    if plan:\n",
    "        action_list = []\n",
    "        for amount in range(plan[1]):\n",
    "            action_list.append(\"sleep\")\n",
    "        for horizontal in range(study_room[0]):\n",
    "            action_list.append(\"walk\")\n",
    "            action_list.append(\"right\")\n",
    "        for vertical in range(study_room[1]):\n",
    "            action_list.append(\"walk\")\n",
    "            action_list.append(\"up\")\n",
    "        for amount in range(plan[0]):\n",
    "            action_list.append(\"study\")\n",
    "        return action_list\n",
    "    else:\n",
    "        return \"sadge :(\""
   ]
  },
  {
   "cell_type": "code",
   "execution_count": 37,
   "id": "64010ead",
   "metadata": {},
   "outputs": [],
   "source": [
    "# plan = study_room_eval()\n",
    "# study_room_exc(plan)"
   ]
  },
  {
   "cell_type": "code",
   "execution_count": 38,
   "id": "f7743be8",
   "metadata": {},
   "outputs": [],
   "source": [
    "# moving actions"
   ]
  },
  {
   "cell_type": "code",
   "execution_count": 39,
   "id": "caf75b71",
   "metadata": {},
   "outputs": [],
   "source": [
    "# shows the avvailable moves, i.e. moves that won't result in appearing outside of the board\n",
    "def get_moves(location):\n",
    "    available_moves = []\n",
    "    if (0, 0) <= (location[0] + 1, location[1]) <= (size - 1, size - 1):\n",
    "        available_moves.append(\"right\")\n",
    "    if (0, 0) <= (location[0] - 1, location[1]) <= (size - 1, size - 1):\n",
    "        available_moves.append(\"right\")\n",
    "    if (0, 0) <= (location[0], location[1] + 1) <= (size - 1, size - 1):\n",
    "        available_moves.append(\"right\")\n",
    "    if (0, 0) <= (location[0], location[1] - 1) <= (size - 1, size - 1):\n",
    "        available_moves.append(\"right\")\n",
    "    return available_moves"
   ]
  },
  {
   "cell_type": "code",
   "execution_count": 40,
   "id": "3300b8ce",
   "metadata": {},
   "outputs": [],
   "source": [
    "# allows the player to change location\n",
    "# direction is one of the stings \"right\", \"left\", \"up\" and \"down\"\n",
    "def move(location, direction):\n",
    "    global history\n",
    "    if direction == \"right\":\n",
    "        location = (location[0] + 1, location[1])\n",
    "    if direction == \"left\":\n",
    "        location = (location[0] - 1, location[1])\n",
    "    if direction == \"up\":\n",
    "        location = (location[0], location[1] + 1)\n",
    "    if direction == \"down\":\n",
    "        location = (location[0], location[1] - 1)\n",
    "    history.append(location)\n",
    "    return location"
   ]
  },
  {
   "cell_type": "code",
   "execution_count": 41,
   "id": "a863289c",
   "metadata": {},
   "outputs": [],
   "source": [
    "# game process"
   ]
  },
  {
   "cell_type": "code",
   "execution_count": 42,
   "id": "bc27c59b",
   "metadata": {},
   "outputs": [],
   "source": [
    "# tracks how much time has passed since the beginning of the game\n",
    "time = 0"
   ]
  },
  {
   "cell_type": "code",
   "execution_count": 43,
   "id": "6a9981cb",
   "metadata": {},
   "outputs": [],
   "source": [
    "# indicates the time when the game ends\n",
    "time_limit = 50"
   ]
  },
  {
   "cell_type": "code",
   "execution_count": 44,
   "id": "a93ba593",
   "metadata": {},
   "outputs": [],
   "source": [
    "# initially the player has no stamina\n",
    "# the stamina may be gained and lost throwout the game\n",
    "stamina = 0"
   ]
  },
  {
   "cell_type": "code",
   "execution_count": 45,
   "id": "a987181d",
   "metadata": {},
   "outputs": [],
   "source": [
    "# initially the players grade is 0\n",
    "# the grade may raise if the according actions are taken\n",
    "grade = 0"
   ]
  },
  {
   "cell_type": "code",
   "execution_count": 46,
   "id": "20fd108f",
   "metadata": {},
   "outputs": [],
   "source": [
    "# overall statistics\n",
    "stats = [time, stamina, grade, location]"
   ]
  },
  {
   "cell_type": "code",
   "execution_count": 47,
   "id": "6e9cb39d",
   "metadata": {},
   "outputs": [],
   "source": [
    "# gives acess to the current stats\n",
    "def get_stats(stats):\n",
    "    print(f\"The current location is {stats[3]}.\")\n",
    "    print(f\"The current time is {stats[0]}.\")\n",
    "    print(f\"The current stamina is {stats[1]}.\")\n",
    "    print(f\"The current grade is {stats[2]}.\")"
   ]
  },
  {
   "cell_type": "code",
   "execution_count": 48,
   "id": "b3bde371",
   "metadata": {},
   "outputs": [],
   "source": [
    "# lets the player choose the type of the action\n",
    "# assumes no illegal actions can take a place\n",
    "def choose_action():\n",
    "    action_choice = input(\"What's the next action?: \")\n",
    "    return action_choice"
   ]
  },
  {
   "cell_type": "code",
   "execution_count": 49,
   "id": "68720b89",
   "metadata": {},
   "outputs": [],
   "source": [
    "# ensures that the player dies after party if their score is insufficient\n",
    "def party_death(stats):\n",
    "    # study/ time\n",
    "    if stats[2]/ stats[0] < 1/8:\n",
    "        return True\n",
    "    return False"
   ]
  },
  {
   "cell_type": "code",
   "execution_count": 50,
   "id": "54332f2d",
   "metadata": {},
   "outputs": [],
   "source": [
    "# deals with the consequences of the action\n",
    "def action_execution(action_choice, stats, location, percept_information):#, \n",
    "                     #pss, coffee_smell_strong, coffee_smell_weak, state_game, state_player):\n",
    "    \n",
    "#     # pss regeneration if needed\n",
    "#     if \"pss\" in percept_information:\n",
    "#         pss = pss_generator(study_room)\n",
    "#         coffee_smell_strong = coffee_smell_generator(pss)[0]\n",
    "#         coffee_smell_weak = coffee_smell_generator(pss)[1]\n",
    "#         state_game = get_world_state_game(state_game)\n",
    "#         for i in range(len(locations)):\n",
    "#             if \"strong coffee smell\" in percept_information:\n",
    "#                 state_player[i].remove(\"strong coffee smell\")\n",
    "#             if \"weak coffee smell\" in percept_information:\n",
    "#                 state_player[i].remove(\"weak coffee smell\")\n",
    "#     pss_info = [pss, coffee_smell_strong, coffee_smell_weak, state_game, state_player]\n",
    "    \n",
    "    if \"party\" in percept_information:\n",
    "        if party_death(stats):\n",
    "            return \"Game Over ;-;\"\n",
    "        \n",
    "    if \"strong vodka smell\" in percept_information:\n",
    "        if party_death(stats):\n",
    "            return \"Game Over ;-;\"\n",
    "    \n",
    "    if action_choice == \"walk\":\n",
    "        direction = input(\"Select the direction: \")\n",
    "        location = move(location, direction)\n",
    "        print(f\"You are now at {location}.\")\n",
    "        func_stamina = stats[1] - 1\n",
    "        func_time = stats[0] + 1\n",
    "        func_grade = stats[2]\n",
    "        \n",
    "    # the player should be at the study rooom\n",
    "    if action_choice == \"study\":\n",
    "        func_stamina = stats[1] - 3\n",
    "        func_time = stats[0] + 1\n",
    "        func_grade = stats[2] + 1\n",
    "        \n",
    "    # the player should be at the bed\n",
    "    if action_choice == \"sleep\":\n",
    "        func_stamina = stats[1] + 2\n",
    "        func_time = stats[0] + 1\n",
    "        func_grade = stats[2]\n",
    "        \n",
    "    # the player shoud be at the pss\n",
    "    if action_choice == \"attend_pss\":\n",
    "        func_stamina = stats[1] - 4\n",
    "        func_time = stats[0] + 4\n",
    "        func_grade = stats[2] + 8\n",
    "        \n",
    "    stats_func = [func_time, func_stamina, func_grade, location]\n",
    "    return stats_func#, pss_info]"
   ]
  },
  {
   "cell_type": "code",
   "execution_count": 51,
   "id": "54ad58a5",
   "metadata": {},
   "outputs": [],
   "source": [
    "# checks if the player wins the game or no\n",
    "def final_boss(stats):\n",
    "    if stats[2] * 5 >= 50:\n",
    "        return \"You won, son.\"\n",
    "    else:\n",
    "        return \"As expected, horrible death.\""
   ]
  },
  {
   "cell_type": "code",
   "execution_count": 52,
   "id": "54f90302",
   "metadata": {},
   "outputs": [],
   "source": [
    "# playing the game"
   ]
  },
  {
   "cell_type": "code",
   "execution_count": 53,
   "id": "bc7fec1a",
   "metadata": {},
   "outputs": [],
   "source": [
    "# allows to play the game\n",
    "def play(location, stats, state_player, pss, coffee_smell_strong, coffee_smell_weak, state_game):\n",
    "    print(\"Greetings! Welcome to the сдохни или умри.\")\n",
    "    time = stats[0]\n",
    "    get_stats(stats)\n",
    "    while time < time_limit:\n",
    "        percept_information = percept(location)\n",
    "        action_choice = choose_action()\n",
    "        stats = action_execution(action_choice, stats, location, percept_information)#,\n",
    "                                #pss, coffee_smell_strong, coffee_smell_weak, state_game, state_player)[0]\n",
    "#         pss_info = action_execution(action_choice, stats, location, percept_information,\n",
    "#                                 pss, coffee_smell_strong, coffee_smell_weak, state_game, state_player)[1]\n",
    "#         pss = pss_info[0]\n",
    "#         coffee_smell_strong = pss_info[1]\n",
    "#         coffee_smell_weak = pss_info[2]\n",
    "#         state_game = pss_info[3]\n",
    "#         state_player = pss_info[4]\n",
    "        if stats == \"Game Over ;-;\":\n",
    "            return \"Game Over ;-;\"\n",
    "        time = stats[0]\n",
    "        location = stats[3]\n",
    "        percept_information = percept(location)\n",
    "        state_player = change_world_state_player(location, percept_information, state_player)\n",
    "        print(\"The current ճղճիմ knowledge that you posess:\")\n",
    "        get_stats(stats)\n",
    "        print(state_player)\n",
    "    print(\"You've reached the end of the game. It's time to face the final boss...\")\n",
    "    print(final_boss(stats))"
   ]
  },
  {
   "cell_type": "code",
   "execution_count": 54,
   "id": "39edc8d1",
   "metadata": {},
   "outputs": [],
   "source": [
    "# for people who want to play themselves"
   ]
  },
  {
   "cell_type": "code",
   "execution_count": 55,
   "id": "2218f68e",
   "metadata": {},
   "outputs": [],
   "source": [
    "# please don't do illegal actions, thats cheating :(\n",
    "# (I was lazy to take care of it)\n",
    "# remove the comment (#) from the next line to try\n",
    "\n",
    "# play((0,0), stats, state_player, pss, coffee_smell_strong, coffee_smell_weak, state_game)"
   ]
  },
  {
   "cell_type": "markdown",
   "id": "3f622257",
   "metadata": {},
   "source": [
    "# Agent Solutions"
   ]
  },
  {
   "cell_type": "code",
   "execution_count": 56,
   "id": "697e2a3b",
   "metadata": {},
   "outputs": [],
   "source": [
    "def study_room_eval():\n",
    "    plan = []\n",
    "    needed_time = time_limit - (location[0] + location[1])\n",
    "    for study_time in reversed(range(needed_time + 1)):\n",
    "        for sleep_time in reversed(range(needed_time + 1)):\n",
    "            if(study_time * 3 + sleep_time <= needed_time):\n",
    "                plan = [study_time, sleep_time]\n",
    "    if plan:\n",
    "        action_list = []\n",
    "        for amount in range(plan[1]):\n",
    "            action.list.append[\"sleep\"]\n",
    "        for horizontal in range(location[0]):\n",
    "            action_list.append[\"walk\"]\n",
    "            action_list.append[\"right\"]\n",
    "        for vertical in range(location[1]):\n",
    "            action_list.append[\"walk\"]\n",
    "            action_list.append[\"up\"]\n",
    "        for amount in range(plan[0]):\n",
    "            action.list.append[\"study\"]\n",
    "        return action_list\n",
    "    else:\n",
    "        return \"sadge :(\""
   ]
  },
  {
   "cell_type": "code",
   "execution_count": 57,
   "id": "4e71c86e",
   "metadata": {},
   "outputs": [],
   "source": [
    "######################################################################################################################"
   ]
  },
  {
   "cell_type": "code",
   "execution_count": 58,
   "id": "fdbcb543",
   "metadata": {},
   "outputs": [],
   "source": [
    "def adjacent(cell):\n",
    "    return [(cell[0] + 1, cell[1]), (cell[0] - 1, cell[1]), (cell[0], cell[1] + 1), (cell[0], cell[1] - 1)]"
   ]
  },
  {
   "cell_type": "code",
   "execution_count": 60,
   "id": "d9bab4da",
   "metadata": {},
   "outputs": [],
   "source": [
    "def pss_eval(stamina, location):\n",
    "    action_list  = []\n",
    "    decently_close_cell = []\n",
    "    close_cell = []\n",
    "    if \"bed\" in percept_information:\n",
    "        if stamina <= 15:\n",
    "            return \"sleep\"\n",
    "    if \"weak coffee smell\" in percept_information:\n",
    "        decently_close_cell.append[location]\n",
    "    if \"coffee smell\" in percept_information:\n",
    "        close_cell.append[location]\n",
    "    if \"pss\" in percept_information:\n",
    "        while stamina >= location[0] + location[1] + 4:\n",
    "            return \"attend_pss\"\n",
    "    for i in adjacent(location):\n",
    "        if i in close_cell:\n",
    "            if stamina >= location[0] + location[1] + 1:\n",
    "                return f\"move to {i}\"\n",
    "        if location not in close_cell:\n",
    "            if location not in decently_close_cell:\n",
    "                if i in close_cell:\n",
    "                    if stamina >= location[0] + location[1] + 1:\n",
    "                        return f\"move to {i}\"\n",
    "    \n",
    "    if stamina >= location[0] + location[1] + 1:\n",
    "        if location[0] <= location[1]:\n",
    "            if (location[0] + 1, location[1]) <= (size - 1, size - 1):\n",
    "                return f\"move to {(location[0] + 1, location[1])}\"\n",
    "        else:\n",
    "            if (location[0], location[1] + 1) <= (size - 1, size - 1):\n",
    "                return f\"move to {(location[0], location[1] + 1)}\"\n",
    "        if location[0] >= location[1]:\n",
    "            if (location[0] - 1, location[1]) <= (size - 1, size - 1):\n",
    "                return f\"move to {(location[0] - 1, location[1])}\"\n",
    "        else:\n",
    "            if (location[0], location[1] - 1) <= (size - 1, size - 1):\n",
    "                return f\"move to {(location[0], location[1] - 1)}\"\n",
    "    return \"sadge :(\""
   ]
  },
  {
   "cell_type": "code",
   "execution_count": null,
   "id": "8a3e1d4d",
   "metadata": {},
   "outputs": [],
   "source": []
  }
 ],
 "metadata": {
  "kernelspec": {
   "display_name": "Python 3 (ipykernel)",
   "language": "python",
   "name": "python3"
  },
  "language_info": {
   "codemirror_mode": {
    "name": "ipython",
    "version": 3
   },
   "file_extension": ".py",
   "mimetype": "text/x-python",
   "name": "python",
   "nbconvert_exporter": "python",
   "pygments_lexer": "ipython3",
   "version": "3.9.12"
  }
 },
 "nbformat": 4,
 "nbformat_minor": 5
}
